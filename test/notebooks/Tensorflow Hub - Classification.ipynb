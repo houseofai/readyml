{
 "cells": [
  {
   "cell_type": "code",
   "execution_count": 6,
   "id": "c98afba4",
   "metadata": {
    "ExecuteTime": {
     "end_time": "2021-08-06T06:49:24.039155Z",
     "start_time": "2021-08-06T06:49:24.035720Z"
    }
   },
   "outputs": [],
   "source": [
    "import tensorflow_hub as hub\n",
    "import tensorflow as tf\n",
    "import os\n",
    "import PIL\n",
    "from PIL import Image\n",
    "import numpy as np\n",
    "\n",
    "os.environ['TFHUB_DOWNLOAD_PROGRESS'] = \"1\"\n",
    "\n",
    "physical_devices = tf.config.list_physical_devices('GPU')\n",
    "for device in physical_devices:\n",
    "    tf.config.experimental.set_memory_growth(device, True)"
   ]
  },
  {
   "cell_type": "markdown",
   "id": "9c8d01bf",
   "metadata": {},
   "source": [
    "# Load test image"
   ]
  },
  {
   "cell_type": "code",
   "execution_count": 2,
   "id": "e8f8a85d",
   "metadata": {
    "ExecuteTime": {
     "end_time": "2021-08-06T10:43:35.363545Z",
     "start_time": "2021-08-06T10:43:35.360912Z"
    }
   },
   "outputs": [],
   "source": [
    "img_path = \"../dataset_test/brad.jpg\""
   ]
  },
  {
   "cell_type": "markdown",
   "id": "bf12facb",
   "metadata": {},
   "source": [
    "# Load labels"
   ]
  },
  {
   "cell_type": "markdown",
   "id": "e83c022d",
   "metadata": {},
   "source": [
    "## ImageNet: 1001"
   ]
  },
  {
   "cell_type": "code",
   "execution_count": 50,
   "id": "2ca29ee8",
   "metadata": {
    "ExecuteTime": {
     "end_time": "2021-08-06T08:33:06.449838Z",
     "start_time": "2021-08-06T08:33:06.446217Z"
    }
   },
   "outputs": [],
   "source": [
    "with open(\"../dataset_test/ImageNetLabels.txt\") as f:\n",
    "    labels_imagenet = np.asarray(f.readlines())\n",
    "    labels_imagenet = [x.replace(\"\\n\", \"\") for x in labels_imagenet]"
   ]
  },
  {
   "cell_type": "markdown",
   "id": "1879c277",
   "metadata": {},
   "source": [
    "## imagenet21k_wordnet_lemmas"
   ]
  },
  {
   "cell_type": "code",
   "execution_count": 26,
   "id": "722360fc",
   "metadata": {
    "ExecuteTime": {
     "end_time": "2021-08-06T07:57:01.348097Z",
     "start_time": "2021-08-06T07:57:01.319762Z"
    }
   },
   "outputs": [],
   "source": [
    "with open(\"../dataset_test/imagenet21k_wordnet_lemmas.txt\") as f:\n",
    "    labels_imagenet21k = np.asarray(f.readlines())\n",
    "    labels_imagenet21k = [x.replace(\"\\n\", \"\") for x in labels_imagenet21k]"
   ]
  },
  {
   "cell_type": "markdown",
   "id": "ad3651bc",
   "metadata": {},
   "source": [
    "# Test Models"
   ]
  },
  {
   "cell_type": "markdown",
   "id": "60c83131",
   "metadata": {},
   "source": [
    "**Path to downloaded models:** /tmp/tfhub_modules/"
   ]
  },
  {
   "cell_type": "markdown",
   "id": "9640e7c3",
   "metadata": {},
   "source": [
    "## mobilenet_v2"
   ]
  },
  {
   "cell_type": "code",
   "execution_count": 73,
   "id": "f82f9fcb",
   "metadata": {
    "ExecuteTime": {
     "end_time": "2021-08-06T09:40:59.810918Z",
     "start_time": "2021-08-06T09:40:58.995098Z"
    }
   },
   "outputs": [
    {
     "ename": "FileNotFoundError",
     "evalue": "[Errno 2] No such file or directory: 'elephant.jpg'",
     "output_type": "error",
     "traceback": [
      "\u001b[0;31m---------------------------------------------------------------------------\u001b[0m",
      "\u001b[0;31mFileNotFoundError\u001b[0m                         Traceback (most recent call last)",
      "\u001b[0;32m/tmp/ipykernel_1247346/819061557.py\u001b[0m in \u001b[0;36m<module>\u001b[0;34m\u001b[0m\n\u001b[1;32m      7\u001b[0m \u001b[0;31m# Transform the image\u001b[0m\u001b[0;34m\u001b[0m\u001b[0;34m\u001b[0m\u001b[0;34m\u001b[0m\u001b[0m\n\u001b[1;32m      8\u001b[0m \u001b[0;31m#image = tf.keras.preprocessing.image.load_img(img_path)\u001b[0m\u001b[0;34m\u001b[0m\u001b[0;34m\u001b[0m\u001b[0;34m\u001b[0m\u001b[0m\n\u001b[0;32m----> 9\u001b[0;31m \u001b[0mimage_pil\u001b[0m \u001b[0;34m=\u001b[0m \u001b[0mImage\u001b[0m\u001b[0;34m.\u001b[0m\u001b[0mopen\u001b[0m\u001b[0;34m(\u001b[0m\u001b[0mimg_path\u001b[0m\u001b[0;34m)\u001b[0m\u001b[0;34m\u001b[0m\u001b[0;34m\u001b[0m\u001b[0m\n\u001b[0m\u001b[1;32m     10\u001b[0m \u001b[0mimage\u001b[0m \u001b[0;34m=\u001b[0m \u001b[0mnp\u001b[0m\u001b[0;34m.\u001b[0m\u001b[0marray\u001b[0m\u001b[0;34m(\u001b[0m\u001b[0mimage_pil\u001b[0m\u001b[0;34m)\u001b[0m\u001b[0;34m\u001b[0m\u001b[0;34m\u001b[0m\u001b[0m\n\u001b[1;32m     11\u001b[0m \u001b[0mimage\u001b[0m \u001b[0;34m=\u001b[0m \u001b[0mtf\u001b[0m\u001b[0;34m.\u001b[0m\u001b[0mimage\u001b[0m\u001b[0;34m.\u001b[0m\u001b[0mresize\u001b[0m\u001b[0;34m(\u001b[0m\u001b[0mimage\u001b[0m\u001b[0;34m,\u001b[0m \u001b[0;34m[\u001b[0m\u001b[0;36m224\u001b[0m\u001b[0;34m,\u001b[0m \u001b[0;36m224\u001b[0m\u001b[0;34m]\u001b[0m\u001b[0;34m)\u001b[0m\u001b[0;34m\u001b[0m\u001b[0;34m\u001b[0m\u001b[0m\n",
      "\u001b[0;32m~/miniconda3/envs/fastml/lib/python3.8/site-packages/PIL/Image.py\u001b[0m in \u001b[0;36mopen\u001b[0;34m(fp, mode, formats)\u001b[0m\n\u001b[1;32m   2966\u001b[0m \u001b[0;34m\u001b[0m\u001b[0m\n\u001b[1;32m   2967\u001b[0m     \u001b[0;32mif\u001b[0m \u001b[0mfilename\u001b[0m\u001b[0;34m:\u001b[0m\u001b[0;34m\u001b[0m\u001b[0;34m\u001b[0m\u001b[0m\n\u001b[0;32m-> 2968\u001b[0;31m         \u001b[0mfp\u001b[0m \u001b[0;34m=\u001b[0m \u001b[0mbuiltins\u001b[0m\u001b[0;34m.\u001b[0m\u001b[0mopen\u001b[0m\u001b[0;34m(\u001b[0m\u001b[0mfilename\u001b[0m\u001b[0;34m,\u001b[0m \u001b[0;34m\"rb\"\u001b[0m\u001b[0;34m)\u001b[0m\u001b[0;34m\u001b[0m\u001b[0;34m\u001b[0m\u001b[0m\n\u001b[0m\u001b[1;32m   2969\u001b[0m         \u001b[0mexclusive_fp\u001b[0m \u001b[0;34m=\u001b[0m \u001b[0;32mTrue\u001b[0m\u001b[0;34m\u001b[0m\u001b[0;34m\u001b[0m\u001b[0m\n\u001b[1;32m   2970\u001b[0m \u001b[0;34m\u001b[0m\u001b[0m\n",
      "\u001b[0;31mFileNotFoundError\u001b[0m: [Errno 2] No such file or directory: 'elephant.jpg'"
     ]
    }
   ],
   "source": [
    "m = tf.keras.Sequential([\n",
    "    hub.KerasLayer(\"https://tfhub.dev/google/tf2-preview/mobilenet_v2/classification/4\", output_shape=[1001])\n",
    "])\n",
    "m.build([None, 224, 224, 3])  # Batch input shape.\n",
    "\n",
    "normalization_layer = tf.keras.layers.experimental.preprocessing.Rescaling(1./255)\n",
    "# Transform the image\n",
    "#image = tf.keras.preprocessing.image.load_img(img_path)\n",
    "image_pil = Image.open(img_path)\n",
    "image = np.array(image_pil)\n",
    "image = tf.image.resize(image, [224, 224])\n",
    "image = normalization_layer(image)\n",
    "image = tf.expand_dims(image, axis=0)\n",
    "# Predict\n",
    "prediction = m(image).numpy()[0]\n",
    "# Map with labels\n",
    "labels_mapped = np.column_stack([labels_imagenet, prediction])\n",
    "labels_mapped_high = [[x, y] for (x, y) in labels_mapped if np.float(y) > 5]\n",
    "# \n",
    "labels_mapped_high"
   ]
  },
  {
   "cell_type": "code",
   "execution_count": 54,
   "id": "3e37702f",
   "metadata": {
    "ExecuteTime": {
     "end_time": "2021-08-06T09:31:39.289850Z",
     "start_time": "2021-08-06T09:31:39.272505Z"
    }
   },
   "outputs": [
    {
     "data": {
      "text/plain": [
       "(1, 1001)"
      ]
     },
     "execution_count": 54,
     "metadata": {},
     "output_type": "execute_result"
    }
   ],
   "source": [
    "prediction = m(image).numpy()"
   ]
  },
  {
   "cell_type": "code",
   "execution_count": 57,
   "id": "4cfb62f7",
   "metadata": {
    "ExecuteTime": {
     "end_time": "2021-08-06T09:35:34.670656Z",
     "start_time": "2021-08-06T09:35:34.666941Z"
    }
   },
   "outputs": [
    {
     "data": {
      "text/plain": [
       "array([ 0.4343094 , -1.6993018 , -0.37546688, ..., -1.886097  ,\n",
       "       -2.4636226 ,  0.83712065], dtype=float32)"
      ]
     },
     "execution_count": 57,
     "metadata": {},
     "output_type": "execute_result"
    }
   ],
   "source": [
    "prediction[0]"
   ]
  },
  {
   "cell_type": "code",
   "execution_count": 68,
   "id": "3d1d968f",
   "metadata": {
    "ExecuteTime": {
     "end_time": "2021-08-06T09:38:16.556308Z",
     "start_time": "2021-08-06T09:38:16.553625Z"
    }
   },
   "outputs": [],
   "source": [
    "from keras.applications import imagenet_utils\n",
    "P = imagenet_utils.decode_predictions(prediction[:,:1000], 10)"
   ]
  },
  {
   "cell_type": "code",
   "execution_count": 69,
   "id": "7436053a",
   "metadata": {
    "ExecuteTime": {
     "end_time": "2021-08-06T09:38:17.054094Z",
     "start_time": "2021-08-06T09:38:17.049796Z"
    }
   },
   "outputs": [
    {
     "data": {
      "text/plain": [
       "[[('n03417042', 'garbage_truck', 8.71818),\n",
       "  ('n04355338', 'sundial', 5.782742),\n",
       "  ('n02509815', 'lesser_panda', 5.212958),\n",
       "  ('n04482393', 'tricycle', 5.083147),\n",
       "  ('n02441942', 'weasel', 4.8728623),\n",
       "  ('n03047690', 'clog', 4.8712473),\n",
       "  ('n02504458', 'African_elephant', 4.8337836),\n",
       "  ('n02111500', 'Great_Pyrenees', 4.308421),\n",
       "  ('n02108915', 'French_bulldog', 3.9751885),\n",
       "  ('n02113978', 'Mexican_hairless', 3.8408327)]]"
      ]
     },
     "execution_count": 69,
     "metadata": {},
     "output_type": "execute_result"
    }
   ],
   "source": [
    "P"
   ]
  },
  {
   "cell_type": "code",
   "execution_count": 80,
   "id": "4fe874ae",
   "metadata": {
    "ExecuteTime": {
     "end_time": "2021-08-06T09:58:15.415575Z",
     "start_time": "2021-08-06T09:58:13.928984Z"
    }
   },
   "outputs": [
    {
     "data": {
      "text/plain": [
       "array([[5.55101860e-06, 1.28235104e-06, 6.18547256e-06, 5.16149657e-06,\n",
       "        1.72082873e-04, 4.08447049e-05, 6.63919927e-05, 4.45081678e-04,\n",
       "        4.51911983e-05, 9.60685725e-07, 2.58864333e-07, 5.51524920e-07,\n",
       "        3.18804359e-06, 7.96642269e-07, 1.27646024e-06, 1.11191275e-06,\n",
       "        9.98873134e-07, 2.16565536e-06, 6.40355483e-06, 1.58590717e-06,\n",
       "        2.79125925e-06, 5.05311255e-06, 4.49886429e-05, 1.84312212e-05,\n",
       "        1.26166117e-06, 2.77181243e-06, 9.68357085e-07, 2.90293747e-06,\n",
       "        1.94657559e-06, 2.72853896e-07, 2.13745551e-07, 1.22292732e-07,\n",
       "        3.76012991e-07, 9.71559166e-06, 3.29906179e-05, 2.46234754e-06,\n",
       "        8.61241369e-06, 2.97443285e-06, 1.78765515e-06, 1.33064896e-05,\n",
       "        7.31496868e-07, 4.02721156e-07, 7.84514441e-07, 2.84131897e-06,\n",
       "        1.52182349e-06, 7.46143132e-06, 3.54933121e-07, 7.52622284e-08,\n",
       "        2.46979812e-06, 1.09635675e-05, 4.13285306e-06, 1.97714198e-05,\n",
       "        1.34789582e-06, 6.64807544e-07, 1.10212613e-06, 7.28109455e-07,\n",
       "        1.10939391e-06, 4.79304845e-07, 1.26800353e-06, 5.17433250e-07,\n",
       "        7.16121167e-06, 5.79789912e-06, 5.20167578e-06, 7.71204650e-05,\n",
       "        1.24036262e-07, 9.42814040e-06, 5.59826731e-07, 1.14201221e-05,\n",
       "        3.87839066e-07, 4.46573540e-06, 5.49308766e-07, 1.54329052e-06,\n",
       "        1.27829003e-06, 2.73081810e-06, 1.79035919e-06, 1.00271473e-06,\n",
       "        3.11566764e-05, 7.04913532e-07, 1.39568419e-05, 3.58651664e-06,\n",
       "        1.64607820e-06, 1.81502301e-07, 1.67889652e-06, 3.76597598e-07,\n",
       "        4.85630198e-06, 1.26319151e-06, 3.38178802e-06, 6.59316981e-07,\n",
       "        3.68906126e-06, 1.09632799e-06, 3.39588354e-07, 4.70578470e-06,\n",
       "        1.53073734e-06, 1.11319923e-05, 2.17791751e-07, 1.54755355e-07,\n",
       "        6.89038461e-06, 3.22131632e-06, 1.19302081e-06, 3.63814397e-05,\n",
       "        1.34299999e-05, 4.38690586e-05, 8.61740955e-06, 8.66524078e-06,\n",
       "        1.32138584e-05, 4.66981220e-07, 4.90464208e-06, 3.68855467e-06,\n",
       "        5.07529251e-07, 5.37977485e-06, 1.39101019e-06, 3.05629385e-07,\n",
       "        2.84648588e-04, 4.78686525e-06, 6.95324070e-06, 5.84383827e-07,\n",
       "        6.36803816e-06, 1.01490605e-06, 5.76314997e-05, 4.14515671e-06,\n",
       "        2.88986513e-07, 6.71464441e-05, 7.05103503e-06, 1.98045859e-06,\n",
       "        1.86562306e-06, 5.29152487e-07, 2.17204229e-06, 3.70807265e-06,\n",
       "        3.69682698e-06, 4.82929318e-06, 4.82569303e-05, 2.37080258e-06,\n",
       "        5.43626447e-06, 9.29915416e-07, 2.64306641e-06, 2.86677323e-06,\n",
       "        1.36577694e-06, 1.45701699e-06, 6.98852432e-07, 1.10181088e-06,\n",
       "        3.55113912e-07, 1.64535629e-06, 7.47272907e-07, 3.80367169e-06,\n",
       "        4.71330386e-05, 2.62991780e-05, 1.38653354e-06, 7.35424828e-06,\n",
       "        3.46895322e-05, 2.05127549e-06, 3.53567931e-03, 5.08898229e-05,\n",
       "        4.79415257e-06, 2.14197353e-05, 7.35258291e-05, 3.50485352e-05,\n",
       "        8.31265133e-05, 1.40461452e-05, 3.81521386e-06, 4.35697817e-04,\n",
       "        4.16375842e-04, 5.06217584e-05, 7.67025558e-05, 6.83246821e-04,\n",
       "        7.07937397e-06, 5.54592007e-05, 6.05328842e-06, 1.92180578e-05,\n",
       "        3.08140035e-04, 4.36814043e-05, 1.39718919e-04, 1.13725575e-04,\n",
       "        3.99328528e-05, 1.78543007e-04, 1.82067997e-05, 6.00569219e-05,\n",
       "        3.05722970e-05, 1.45731450e-04, 8.25188326e-05, 3.47414316e-04,\n",
       "        1.09170716e-04, 8.17534310e-05, 5.74067053e-05, 7.88161342e-05,\n",
       "        1.34815613e-03, 3.98988806e-04, 4.56557318e-04, 1.63109471e-05,\n",
       "        1.76979374e-05, 1.24240731e-04, 4.70143859e-05, 2.39137255e-04,\n",
       "        7.44849604e-05, 2.71612407e-05, 4.65828343e-05, 8.80570660e-05,\n",
       "        9.79162360e-06, 2.18795103e-04, 2.12499654e-05, 1.95566710e-04,\n",
       "        2.60219513e-05, 1.04278071e-04, 3.27806803e-04, 1.97125468e-04,\n",
       "        1.50553518e-04, 4.56193229e-04, 5.93351957e-04, 4.07274085e-04,\n",
       "        4.88101505e-04, 5.95303427e-04, 1.62825836e-05, 3.07532190e-03,\n",
       "        2.13890562e-05, 8.72058561e-04, 1.72932516e-04, 1.84667180e-04,\n",
       "        1.31183013e-04, 3.28920687e-05, 9.29848102e-05, 8.21307549e-05,\n",
       "        6.88211701e-04, 2.00845461e-04, 2.01470859e-04, 1.24129176e-04,\n",
       "        1.55064568e-04, 1.76293863e-04, 7.79121241e-04, 3.27379130e-05,\n",
       "        1.10771412e-04, 4.61707386e-05, 4.18426025e-05, 1.19028664e-04,\n",
       "        1.75705300e-05, 5.67852345e-04, 2.15893073e-04, 1.01045385e-04,\n",
       "        7.69847320e-05, 2.99706262e-05, 4.96386674e-05, 1.14472408e-04,\n",
       "        4.52267923e-05, 2.49191598e-05, 7.48590683e-05, 9.32727417e-05,\n",
       "        1.91398212e-04, 3.52505340e-05, 1.78451170e-04, 5.86449241e-05,\n",
       "        1.71041138e-05, 3.69741392e-05, 2.27781074e-05, 5.08636440e-05,\n",
       "        5.25095929e-05, 1.95996436e-05, 3.88648514e-05, 6.13072654e-04,\n",
       "        1.16172503e-03, 1.46818755e-04, 1.00756137e-04, 5.66804338e-05,\n",
       "        2.41763759e-04, 2.61094774e-05, 6.85412524e-05, 6.26872497e-05,\n",
       "        1.04582527e-04, 9.52634000e-05, 1.66886690e-04, 5.78338106e-04,\n",
       "        7.42110205e-05, 2.53643907e-06, 9.81008361e-06, 5.11027174e-05,\n",
       "        2.82685892e-06, 3.59452424e-05, 7.24397478e-06, 7.44383669e-07,\n",
       "        2.20359034e-05, 2.73887617e-05, 2.23382312e-06, 1.08198119e-05,\n",
       "        1.30728154e-06, 2.66823190e-05, 5.68716496e-05, 2.77113722e-05,\n",
       "        1.63779569e-05, 3.15448706e-05, 1.72072523e-05, 2.77366098e-06,\n",
       "        3.58796365e-06, 1.67294775e-06, 1.27731819e-05, 8.92201751e-06,\n",
       "        8.13604493e-05, 4.85882674e-06, 1.66278391e-04, 8.00782655e-05,\n",
       "        9.47609151e-05, 1.85671015e-05, 4.56212592e-06, 1.33618630e-06,\n",
       "        1.12642226e-07, 1.70403155e-06, 7.27942108e-07, 2.15786440e-06,\n",
       "        7.47981630e-07, 2.61134733e-06, 6.11285031e-06, 3.04323180e-07,\n",
       "        6.69315966e-07, 3.59125863e-07, 2.21210621e-06, 6.62990374e-07,\n",
       "        4.16628609e-07, 3.99157898e-07, 5.50518916e-06, 1.54980285e-07,\n",
       "        3.14169142e-07, 1.62126696e-07, 1.76784710e-07, 1.48139918e-06,\n",
       "        2.29147616e-07, 3.23592030e-06, 8.34615207e-07, 7.43550061e-07,\n",
       "        2.54398628e-07, 7.77722960e-07, 5.82438645e-07, 1.10820074e-05,\n",
       "        6.12527401e-06, 2.14356010e-06, 1.49905009e-06, 2.36094729e-06,\n",
       "        1.26406330e-05, 1.47768822e-06, 2.82283036e-05, 4.36242203e-07,\n",
       "        2.31175432e-06, 5.18707020e-05, 4.53478469e-06, 7.18234296e-05,\n",
       "        2.41727557e-05, 2.01245130e-04, 3.14364552e-05, 7.00935925e-05,\n",
       "        4.27369450e-05, 2.55226681e-04, 2.41419184e-04, 1.40276725e-05,\n",
       "        1.62244578e-05, 2.88902902e-06, 2.29767338e-05, 9.51337461e-06,\n",
       "        2.43792988e-06, 3.14243016e-06, 6.89321751e-05, 1.79210183e-04,\n",
       "        4.13044945e-05, 2.01210387e-05, 6.79908408e-05, 8.14335363e-06,\n",
       "        3.87709297e-05, 3.31321535e-05, 4.49293020e-06, 1.30348271e-05,\n",
       "        1.65393658e-06, 1.32251487e-04, 3.64705447e-05, 2.66893563e-04,\n",
       "        1.19231518e-05, 1.12639755e-05, 2.12217424e-06, 5.09789561e-06,\n",
       "        4.56603229e-05, 4.06809035e-04, 2.76106275e-05, 2.69998918e-06,\n",
       "        4.70870282e-06, 1.03926413e-06, 1.84590135e-05, 8.12349663e-06,\n",
       "        2.41809744e-06, 9.91507331e-05, 6.96441612e-06, 4.24358950e-06,\n",
       "        2.86256181e-07, 5.47126576e-04, 5.84416441e-04, 1.12956559e-05,\n",
       "        1.40983375e-05, 3.96924552e-05, 1.53769088e-05, 6.76047464e-04,\n",
       "        5.88680734e-07, 1.28401166e-06, 3.19987128e-04, 1.74215456e-05,\n",
       "        4.22480070e-06, 1.59766898e-06, 4.17021001e-05, 3.97039503e-02,\n",
       "        1.41997300e-02, 9.04577672e-02, 9.19567421e-04, 7.91565690e-05,\n",
       "        1.27024521e-06, 4.29480788e-05, 3.10835923e-04, 1.40175165e-04,\n",
       "        5.16707187e-05, 3.64051288e-04, 1.30184664e-04, 1.22072979e-05,\n",
       "        1.95247680e-03, 3.74124455e-03, 1.84905803e-04, 2.63965107e-04,\n",
       "        4.84325683e-05, 1.44424179e-04, 3.59882688e-06, 1.21768513e-04,\n",
       "        6.90427423e-03, 3.65781947e-04, 3.08697403e-04, 9.75800431e-05,\n",
       "        7.33153545e-04, 3.60057602e-05, 8.68787974e-05, 2.61605368e-04,\n",
       "        1.08189869e-03, 3.00043157e-05, 1.45475741e-03, 2.19908611e-06,\n",
       "        4.55164863e-03, 5.34822233e-04, 5.77472019e-05, 6.72377646e-05,\n",
       "        1.60054460e-05, 3.30161420e-05, 1.17804893e-05, 1.95025746e-03,\n",
       "        1.93179094e-05, 6.40415919e-06, 3.63013998e-04, 3.76087087e-06,\n",
       "        9.01248677e-06, 1.77035865e-04, 8.50606375e-06, 5.27287659e-04,\n",
       "        2.80905897e-05, 3.21694155e-04, 3.18427701e-05, 6.57022247e-05,\n",
       "        7.96450186e-05, 7.24472484e-05, 8.94393306e-04, 2.21166533e-06,\n",
       "        3.98928300e-04, 2.85936724e-02, 4.49170911e-04, 3.12947304e-05,\n",
       "        1.97341596e-03, 5.67985044e-05, 6.82490459e-03, 1.51637988e-03,\n",
       "        8.10190249e-06, 6.08132919e-04, 3.14583813e-05, 1.16325769e-04,\n",
       "        1.25058883e-04, 3.33843869e-04, 3.07204755e-05, 1.27963300e-04,\n",
       "        2.23166950e-04, 4.47966704e-06, 1.22772195e-04, 4.88390378e-06,\n",
       "        5.58028023e-06, 6.06874528e-06, 2.91295745e-03, 6.26798965e-06,\n",
       "        5.42451674e-03, 2.56249696e-05, 5.50166214e-06, 1.81509851e-04,\n",
       "        7.33128718e-06, 9.56926669e-07, 4.56148237e-02, 8.12656153e-03,\n",
       "        4.16151161e-05, 4.62143071e-05, 3.91960712e-05, 5.05797798e-03,\n",
       "        2.05665056e-04, 2.86195063e-05, 4.34304311e-05, 2.27877772e-05,\n",
       "        1.72658856e-05, 2.39366229e-04, 8.09424600e-05, 4.86976089e-04,\n",
       "        4.69291146e-04, 6.14398997e-03, 1.14684936e-03, 1.24828375e-05,\n",
       "        3.62691094e-06, 1.56428214e-05, 2.43407940e-05, 3.36979883e-06,\n",
       "        3.56848204e-06, 3.86759457e-05, 6.59031284e-05, 2.00371574e-06,\n",
       "        2.22711533e-05, 1.38997787e-03, 2.98379455e-03, 1.25858304e-03,\n",
       "        3.30240473e-05, 1.07767053e-04, 3.17128797e-05, 1.23864757e-02,\n",
       "        7.27567067e-06, 1.37150500e-05, 1.51219559e-04, 1.33689381e-02,\n",
       "        9.05132038e-05, 8.00456619e-04, 1.49890784e-05, 1.25275837e-05,\n",
       "        3.74313022e-05, 5.46761148e-05, 5.79875923e-05, 1.38574047e-04,\n",
       "        1.80830048e-05, 1.19349886e-06, 1.52449848e-05, 4.62107550e-07,\n",
       "        1.30420216e-04, 7.16694376e-06, 1.62715092e-04, 4.19661927e-04,\n",
       "        1.01127720e-04, 1.10399397e-03, 1.01905619e-03, 8.22979549e-04,\n",
       "        1.78006849e-05, 3.87333603e-06, 4.18506097e-04, 1.50363337e-06,\n",
       "        1.18700436e-05, 3.27454363e-05, 1.92981429e-06, 6.54635187e-06,\n",
       "        1.37411116e-04, 2.79790082e-04, 4.09971326e-05, 5.83875999e-06,\n",
       "        5.12805709e-05, 8.59404026e-05, 1.75565034e-02, 7.83331780e-05,\n",
       "        6.23761343e-06, 1.05335854e-03, 3.76968668e-03, 2.00828026e-06,\n",
       "        1.18753651e-05, 3.42742060e-05, 2.28591263e-04, 2.57138799e-05,\n",
       "        1.09462157e-01, 1.03353748e-04, 4.43640817e-03, 1.18562748e-05,\n",
       "        5.40280371e-06, 9.62969261e-06, 7.43763894e-06, 5.38447648e-06,\n",
       "        1.19361561e-03, 1.42177640e-04, 9.32390394e-05, 2.69399281e-03,\n",
       "        8.81590749e-05, 1.54441386e-06, 1.23192265e-04, 1.28574006e-03,\n",
       "        1.86760153e-05, 1.10304209e-04, 3.80331985e-05, 1.17597578e-03,\n",
       "        6.99420798e-06, 3.55031661e-05, 2.02371575e-05, 6.27290865e-05,\n",
       "        2.35471862e-06, 2.31632614e-03, 1.47483805e-02, 1.60432137e-06,\n",
       "        5.45562943e-04, 2.56922242e-04, 2.08664769e-05, 1.46255852e-05,\n",
       "        9.67191081e-05, 2.35336178e-04, 4.36340852e-05, 1.16174502e-04,\n",
       "        1.95857792e-05, 8.35232731e-06, 2.64599585e-05, 4.49096187e-05,\n",
       "        1.88366440e-03, 1.40223619e-05, 2.59893888e-04, 1.09797918e-04,\n",
       "        1.91818865e-04, 1.06603993e-05, 1.17954134e-03, 3.47808120e-04,\n",
       "        2.94174133e-05, 4.18728078e-03, 1.59813470e-04, 5.92315610e-06,\n",
       "        8.21634603e-05, 1.80903189e-05, 3.52809366e-05, 7.73882675e-06,\n",
       "        9.57480399e-04, 5.69893054e-05, 6.29937904e-06, 6.12435397e-05,\n",
       "        5.80217238e-05, 5.22706723e-05, 9.56708658e-03, 2.56507747e-06,\n",
       "        5.44879185e-05, 2.55646046e-05, 1.40646577e-03, 3.70258158e-06,\n",
       "        2.49380944e-04, 4.64029697e-04, 2.05246834e-04, 9.16735153e-05,\n",
       "        6.60698570e-05, 3.92439833e-04, 4.34317393e-03, 9.04166256e-04,\n",
       "        1.67716673e-04, 3.11624681e-05, 3.92790139e-03, 4.40797476e-06,\n",
       "        3.03765028e-05, 1.03389539e-04, 9.11260722e-05, 4.66981419e-06,\n",
       "        3.85578419e-03, 4.02056721e-05, 7.95660599e-05, 6.20709173e-03,\n",
       "        2.21158425e-05, 1.63987606e-05, 6.14220244e-06, 7.67721531e-07,\n",
       "        6.73945033e-05, 4.15178329e-06, 3.17481204e-06, 1.15347665e-03,\n",
       "        9.59521549e-06, 7.61112096e-05, 1.12731859e-05, 2.74475175e-03,\n",
       "        5.00696129e-04, 2.51691745e-05, 3.19856990e-05, 5.87050772e-06,\n",
       "        5.34737592e-06, 1.74910906e-06, 3.61566126e-05, 1.54469162e-04,\n",
       "        1.18972595e-04, 1.76917631e-04, 5.26298187e-04, 5.32940976e-06,\n",
       "        6.72383339e-06, 1.12985064e-04, 4.40445787e-04, 7.62505969e-03,\n",
       "        5.47163829e-04, 2.30843114e-07, 2.12788518e-06, 9.95677197e-04,\n",
       "        4.33378364e-06, 1.80291347e-04, 2.30515780e-05, 3.79031917e-05,\n",
       "        1.26942841e-05, 9.13799682e-04, 4.93211664e-05, 1.92693347e-04,\n",
       "        1.61125674e-03, 1.25628590e-04, 2.26855301e-03, 7.70412944e-03,\n",
       "        5.52290803e-05, 1.42704303e-04, 8.44887199e-06, 2.33744620e-04,\n",
       "        3.84071318e-04, 2.19622016e-05, 2.66695482e-04, 1.05785194e-03,\n",
       "        1.27703510e-03, 1.61158539e-06, 2.10636954e-05, 4.13618109e-05,\n",
       "        9.00251325e-06, 7.71776307e-04, 9.48762499e-06, 5.39862202e-04,\n",
       "        2.33642975e-04, 7.11897383e-06, 9.14187636e-03, 2.12131145e-05,\n",
       "        2.09589762e-05, 4.43426179e-05, 7.42557968e-05, 2.45972478e-05,\n",
       "        3.36487756e-05, 3.28037413e-06, 2.66701572e-05, 1.11649788e-04,\n",
       "        2.55336263e-03, 1.04094158e-06, 4.54530164e-06, 2.50626821e-03,\n",
       "        9.07334652e-06, 6.35434000e-04, 8.30378121e-05, 5.09146776e-04,\n",
       "        6.97610230e-05, 1.03860884e-05, 6.85716259e-06, 6.07476468e-05,\n",
       "        1.60437499e-04, 1.04929740e-03, 3.16597252e-05, 1.45377209e-02,\n",
       "        1.68723891e-05, 7.52557662e-06, 2.98950654e-05, 4.39826894e-04,\n",
       "        1.12508569e-05, 1.53665151e-05, 1.24285289e-05, 2.96579628e-06,\n",
       "        2.79498607e-04, 2.09308229e-04, 3.82240978e-06, 6.27611234e-06,\n",
       "        1.16053685e-04, 3.37923630e-05, 4.37264214e-04, 3.85897147e-05,\n",
       "        3.35473480e-04, 7.01829631e-05, 9.57268130e-05, 2.75634724e-04,\n",
       "        1.82239467e-03, 1.81132273e-04, 2.44329622e-05, 2.96501730e-05,\n",
       "        1.37169351e-04, 7.54066394e-04, 1.00503836e-04, 1.26020503e-04,\n",
       "        9.33026786e-06, 3.11250478e-05, 4.47343424e-04, 8.51521545e-05,\n",
       "        5.35412459e-03, 1.96515524e-04, 2.23659881e-04, 2.65787123e-04,\n",
       "        4.05165483e-05, 7.22189407e-06, 1.79278632e-05, 5.98941097e-06,\n",
       "        9.35192438e-05, 1.73461228e-06, 2.74969670e-06, 2.63194146e-04,\n",
       "        2.58959801e-04, 4.63665638e-05, 5.92780125e-05, 1.63583594e-04,\n",
       "        3.08784866e-03, 2.36895517e-04, 1.95797737e-04, 7.84831791e-05,\n",
       "        4.95900284e-04, 1.26051091e-04, 2.63212452e-04, 4.80220129e-04,\n",
       "        2.03330346e-05, 6.66308042e-05, 3.47739137e-06, 1.35988348e-05,\n",
       "        9.95212940e-06, 1.18492334e-03, 1.06534280e-04, 8.96041020e-05,\n",
       "        9.32297960e-04, 5.35656818e-06, 9.35522439e-06, 1.20178869e-04,\n",
       "        1.73607114e-05, 7.17213377e-04, 3.35710615e-06, 4.25992675e-06,\n",
       "        1.32719661e-05, 1.30797866e-06, 8.62026573e-05, 3.03147756e-03,\n",
       "        4.33878313e-06, 8.76322883e-05, 1.48818755e-04, 8.99285587e-05,\n",
       "        1.03698473e-03, 8.77530547e-05, 1.52648572e-05, 2.96504568e-05,\n",
       "        6.72602710e-06, 7.65523509e-05, 3.33855045e-04, 2.83431636e-05,\n",
       "        2.17493507e-04, 4.28592502e-05, 1.05266318e-01, 2.05893783e-04,\n",
       "        1.50266511e-03, 1.92351395e-03, 1.97095960e-05, 2.26624790e-04,\n",
       "        9.72192211e-04, 3.49509733e-04, 3.96201853e-04, 9.07452311e-04,\n",
       "        1.26263440e-05, 1.41798155e-04, 4.86424642e-06, 1.42967892e-05,\n",
       "        8.76639660e-06, 2.23762254e-06, 4.51317406e-04, 2.01590985e-04,\n",
       "        2.68884360e-05, 9.94035290e-05, 4.06702573e-04, 2.77468462e-06,\n",
       "        1.89240336e-06, 3.61964456e-04, 6.87714346e-05, 6.20714763e-06,\n",
       "        6.52418938e-04, 8.66195624e-05, 2.76690419e-03, 4.77795576e-04,\n",
       "        9.52019946e-06, 4.85108540e-05, 5.95675328e-06, 9.97964344e-06,\n",
       "        9.61211772e-05, 2.07075700e-02, 1.49622516e-04, 2.92522850e-06,\n",
       "        7.42506294e-04, 2.16603978e-03, 1.23993104e-05, 6.75470976e-04,\n",
       "        1.03269856e-04, 1.12257781e-03, 3.85586645e-06, 7.36715794e-02,\n",
       "        2.47913273e-03, 4.00504936e-03, 6.64361694e-04, 3.39409144e-06,\n",
       "        5.02261193e-03, 1.13069240e-04, 4.19976386e-05, 2.26131384e-03,\n",
       "        1.91065119e-04, 8.38633403e-02, 4.26765269e-04, 2.46568220e-06,\n",
       "        6.63915780e-05, 7.19619538e-06, 7.05187849e-05, 2.25461554e-06,\n",
       "        5.52821184e-05, 1.09842629e-04, 1.69280189e-04, 1.11859845e-04,\n",
       "        7.37724667e-06, 3.37393431e-06, 2.20565504e-04, 1.13925093e-03,\n",
       "        1.90354069e-04, 4.18046140e-04, 8.39093758e-04, 4.43567624e-05,\n",
       "        1.48808249e-06, 5.15268548e-05, 2.97930441e-04, 2.83191039e-04,\n",
       "        3.26241498e-05, 8.29373384e-05, 8.84847577e-06, 1.26551255e-04,\n",
       "        1.60255979e-04, 6.87240608e-05, 2.68849864e-04, 1.98891925e-04,\n",
       "        8.12268336e-05, 3.21805535e-04, 1.00999196e-05, 2.46237119e-06,\n",
       "        2.93906595e-07, 2.55262819e-07, 3.37343886e-06, 9.65343020e-07,\n",
       "        3.12788734e-06, 4.38629504e-04, 2.51112742e-05, 2.53983617e-05,\n",
       "        2.22905946e-04, 1.71472050e-06, 1.80634761e-05, 2.08903685e-07,\n",
       "        1.15870598e-05, 2.61078708e-06, 2.14618262e-06, 5.56093755e-06,\n",
       "        1.34772733e-06, 2.18493574e-06, 5.41126019e-06, 3.77351353e-06,\n",
       "        3.47322816e-06, 8.72466558e-07, 1.86206151e-07, 2.61880405e-06,\n",
       "        4.31405988e-06, 1.41040198e-06, 1.18595317e-05, 2.84842736e-06,\n",
       "        4.32136903e-06, 2.49267782e-06, 3.78158511e-05, 3.74422998e-05,\n",
       "        2.48667766e-06, 4.78990205e-06, 3.93656373e-05, 2.92641829e-07,\n",
       "        6.25957864e-06, 5.73565230e-05, 1.46547723e-06, 4.08155756e-06,\n",
       "        3.09114830e-06, 3.08759218e-06, 1.59064002e-05, 1.34493666e-05,\n",
       "        1.06715379e-05, 2.16204603e-06, 6.73390832e-06, 6.20236667e-03,\n",
       "        2.20631468e-04, 7.22423647e-06, 1.12157344e-04, 7.46923106e-05,\n",
       "        3.63842155e-05, 1.13101596e-04, 7.30027459e-05, 1.45694474e-04,\n",
       "        3.47370860e-06, 2.08476311e-04, 8.18250701e-03, 9.89527471e-05,\n",
       "        5.48496610e-06, 1.62751542e-06, 8.95793278e-07, 1.00016332e-05,\n",
       "        1.04002368e-06, 5.90670425e-07, 3.07438495e-06, 1.72966145e-06,\n",
       "        9.31230659e-07, 4.57723900e-06, 2.35489480e-07, 7.62761886e-07,\n",
       "        7.45794523e-06, 5.21592028e-07, 3.26139002e-06, 1.96688488e-04]],\n",
       "      dtype=float32)"
      ]
     },
     "execution_count": 80,
     "metadata": {},
     "output_type": "execute_result"
    }
   ],
   "source": [
    "model = tf.keras.applications.vgg16.VGG16(weights='imagenet', include_top=True)\n",
    "image_pil = Image.open(img_path)\n",
    "image = np.array(image_pil)\n",
    "image = tf.image.resize(image, [224, 224])\n",
    "\n",
    "x = np.expand_dims(np.copy(image), axis=0)\n",
    "x = tf.keras.applications.vgg16.preprocess_input(x)\n",
    "\n",
    "features = model.predict(x)\n"
   ]
  },
  {
   "cell_type": "code",
   "execution_count": 82,
   "id": "d2d9171e",
   "metadata": {
    "ExecuteTime": {
     "end_time": "2021-08-06T09:58:44.827258Z",
     "start_time": "2021-08-06T09:58:44.823570Z"
    }
   },
   "outputs": [
    {
     "data": {
      "text/plain": [
       "(1, 1000)"
      ]
     },
     "execution_count": 82,
     "metadata": {},
     "output_type": "execute_result"
    }
   ],
   "source": [
    "features.shape"
   ]
  },
  {
   "cell_type": "code",
   "execution_count": 83,
   "id": "6221fa78",
   "metadata": {
    "ExecuteTime": {
     "end_time": "2021-08-06T09:58:54.676129Z",
     "start_time": "2021-08-06T09:58:54.672072Z"
    }
   },
   "outputs": [
    {
     "data": {
      "text/plain": [
       "[[('n03404251', 'fur_coat', 0.10946216),\n",
       "  ('n04350905', 'suit', 0.10526632),\n",
       "  ('n02672831', 'accordion', 0.09045777),\n",
       "  ('n04536866', 'violin', 0.08386334),\n",
       "  ('n04507155', 'umbrella', 0.07367158)]]"
      ]
     },
     "execution_count": 83,
     "metadata": {},
     "output_type": "execute_result"
    }
   ],
   "source": [
    "tf.keras.applications.vgg16.decode_predictions(features)"
   ]
  },
  {
   "cell_type": "code",
   "execution_count": 85,
   "id": "447bd30d",
   "metadata": {
    "ExecuteTime": {
     "end_time": "2021-08-06T10:03:40.067824Z",
     "start_time": "2021-08-06T10:03:38.713809Z"
    }
   },
   "outputs": [
    {
     "name": "stdout",
     "output_type": "stream",
     "text": [
      "WARNING:tensorflow:6 out of the last 6 calls to <function Model.make_predict_function.<locals>.predict_function at 0x7fa3703c1280> triggered tf.function retracing. Tracing is expensive and the excessive number of tracings could be due to (1) creating @tf.function repeatedly in a loop, (2) passing tensors with different shapes, (3) passing Python objects instead of tensors. For (1), please define your @tf.function outside of the loop. For (2), @tf.function has experimental_relax_shapes=True option that relaxes argument shapes that can avoid unnecessary retracing. For (3), please refer to https://www.tensorflow.org/guide/function#controlling_retracing and https://www.tensorflow.org/api_docs/python/tf/function for  more details.\n"
     ]
    },
    {
     "name": "stderr",
     "output_type": "stream",
     "text": [
      "WARNING:tensorflow:6 out of the last 6 calls to <function Model.make_predict_function.<locals>.predict_function at 0x7fa3703c1280> triggered tf.function retracing. Tracing is expensive and the excessive number of tracings could be due to (1) creating @tf.function repeatedly in a loop, (2) passing tensors with different shapes, (3) passing Python objects instead of tensors. For (1), please define your @tf.function outside of the loop. For (2), @tf.function has experimental_relax_shapes=True option that relaxes argument shapes that can avoid unnecessary retracing. For (3), please refer to https://www.tensorflow.org/guide/function#controlling_retracing and https://www.tensorflow.org/api_docs/python/tf/function for  more details.\n"
     ]
    },
    {
     "name": "stdout",
     "output_type": "stream",
     "text": [
      "Predicted: [('n03404251', 'fur_coat', 0.82244325), ('n04479046', 'trench_coat', 0.036401827), ('n02667093', 'abaya', 0.020068195)]\n"
     ]
    }
   ],
   "source": [
    "from tensorflow.keras.applications.resnet50 import ResNet50\n",
    "from tensorflow.keras.preprocessing import image\n",
    "from tensorflow.keras.applications.resnet50 import preprocess_input, decode_predictions\n",
    "import numpy as np\n",
    "\n",
    "model = ResNet50(weights='imagenet')\n",
    "\n",
    "img = image.load_img(img_path, target_size=(224, 224))\n",
    "x = image.img_to_array(img)\n",
    "x = np.expand_dims(x, axis=0)\n",
    "x = preprocess_input(x)\n",
    "\n",
    "preds = model.predict(x)\n",
    "# decode the results into a list of tuples (class, description, probability)\n",
    "# (one such list for each sample in the batch)\n",
    "print('Predicted:', decode_predictions(preds, top=3)[0])"
   ]
  },
  {
   "cell_type": "code",
   "execution_count": 87,
   "id": "cf5caf51",
   "metadata": {
    "ExecuteTime": {
     "end_time": "2021-08-06T10:06:15.423287Z",
     "start_time": "2021-08-06T10:06:14.282217Z"
    }
   },
   "outputs": [
    {
     "name": "stdout",
     "output_type": "stream",
     "text": [
      "Predicted: [('n03404251', 'fur_coat', 0.68586403), ('n04479046', 'trench_coat', 0.23977722), ('n04350905', 'suit', 0.036527943)]\n"
     ]
    }
   ],
   "source": [
    "from tensorflow.keras.applications.xception import Xception\n",
    "from tensorflow.keras.preprocessing import image\n",
    "from tensorflow.keras.applications.xception import preprocess_input, decode_predictions\n",
    "import numpy as np\n",
    "\n",
    "model = Xception(weights='imagenet')\n",
    "\n",
    "img = image.load_img(img_path, target_size=(299, 299))\n",
    "x = image.img_to_array(img)\n",
    "x = np.expand_dims(x, axis=0)\n",
    "x = preprocess_input(x)\n",
    "\n",
    "preds = model.predict(x)\n",
    "# decode the results into a list of tuples (class, description, probability)\n",
    "# (one such list for each sample in the batch)\n",
    "print('Predicted:', decode_predictions(preds, top=3)[0])"
   ]
  },
  {
   "cell_type": "code",
   "execution_count": 14,
   "id": "b7eb2737",
   "metadata": {
    "ExecuteTime": {
     "end_time": "2021-08-06T10:51:54.019675Z",
     "start_time": "2021-08-06T10:51:47.308308Z"
    }
   },
   "outputs": [
    {
     "name": "stdout",
     "output_type": "stream",
     "text": [
      "Predicted: [('n04479046', 'trench_coat', 0.6095649), ('n04350905', 'suit', 0.18466176), ('n03404251', 'fur_coat', 0.051378384)]\n"
     ]
    }
   ],
   "source": [
    "from tensorflow.keras.applications import NASNetLarge\n",
    "from tensorflow.keras.preprocessing import image\n",
    "from tensorflow.keras.applications.xception import preprocess_input, decode_predictions\n",
    "import numpy as np\n",
    "\n",
    "model = NASNetLarge(weights='imagenet')\n",
    "\n",
    "img = image.load_img(img_path, target_size=(331, 331))\n",
    "x = image.img_to_array(img)\n",
    "x = np.expand_dims(x, axis=0)\n",
    "x = preprocess_input(x)\n",
    "\n",
    "preds = model.predict(x)\n",
    "# decode the results into a list of tuples (class, description, probability)\n",
    "# (one such list for each sample in the batch)\n",
    "pred = decode_predictions(preds, top=3)[0]\n",
    "print('Predicted:', pred)"
   ]
  },
  {
   "cell_type": "code",
   "execution_count": 15,
   "id": "b4ceec08",
   "metadata": {
    "ExecuteTime": {
     "end_time": "2021-08-06T10:51:54.024581Z",
     "start_time": "2021-08-06T10:51:54.021080Z"
    }
   },
   "outputs": [
    {
     "data": {
      "text/plain": [
       "array([['trench_coat', '0.6095649'],\n",
       "       ['suit', '0.18466176'],\n",
       "       ['fur_coat', '0.051378384']], dtype='<U11')"
      ]
     },
     "execution_count": 15,
     "metadata": {},
     "output_type": "execute_result"
    }
   ],
   "source": [
    "np.asarray(pred)[:,1:3]"
   ]
  },
  {
   "cell_type": "markdown",
   "id": "84b56ba8",
   "metadata": {
    "ExecuteTime": {
     "end_time": "2021-08-05T14:25:31.126336Z",
     "start_time": "2021-08-05T14:25:31.126330Z"
    }
   },
   "source": [
    "## Big Transfer (BiT) - m-r152x4"
   ]
  },
  {
   "cell_type": "markdown",
   "id": "b5be2ab4",
   "metadata": {},
   "source": [
    "https://tfhub.dev/google/bit/m-r152x4/imagenet21k_classification/1"
   ]
  },
  {
   "cell_type": "code",
   "execution_count": 15,
   "id": "c775ac78",
   "metadata": {
    "ExecuteTime": {
     "end_time": "2021-08-06T07:35:01.354652Z",
     "start_time": "2021-08-06T07:34:29.153026Z"
    }
   },
   "outputs": [],
   "source": [
    "module = hub.KerasLayer(\"https://tfhub.dev/google/bit/m-r152x4/imagenet21k_classification/1\")"
   ]
  },
  {
   "cell_type": "code",
   "execution_count": 16,
   "id": "83b99bea",
   "metadata": {
    "ExecuteTime": {
     "end_time": "2021-08-06T07:35:01.573421Z",
     "start_time": "2021-08-06T07:35:01.357193Z"
    },
    "scrolled": false
   },
   "outputs": [],
   "source": [
    "image_pil = Image.open(img_path)\n",
    "image = np.array(image_pil)\n",
    "\n",
    "image = normalization_layer(image)\n",
    "images = tf.expand_dims(image, axis=0)\n"
   ]
  },
  {
   "cell_type": "code",
   "execution_count": 17,
   "id": "e3c36140",
   "metadata": {
    "ExecuteTime": {
     "end_time": "2021-08-06T07:37:42.910299Z",
     "start_time": "2021-08-06T07:35:01.574385Z"
    }
   },
   "outputs": [
    {
     "name": "stderr",
     "output_type": "stream",
     "text": [
      "2021-08-06 09:35:04.850063: W tensorflow/core/framework/cpu_allocator_impl.cc:80] Allocation of 3126329344 exceeds 10% of free system memory.\n",
      "2021-08-06 09:35:05.138799: W tensorflow/core/framework/cpu_allocator_impl.cc:80] Allocation of 3133640704 exceeds 10% of free system memory.\n",
      "2021-08-06 09:35:07.104146: W tensorflow/core/framework/cpu_allocator_impl.cc:80] Allocation of 3126329344 exceeds 10% of free system memory.\n",
      "2021-08-06 09:35:09.738582: W tensorflow/core/framework/cpu_allocator_impl.cc:80] Allocation of 3126329344 exceeds 10% of free system memory.\n",
      "2021-08-06 09:35:11.809843: W tensorflow/core/framework/cpu_allocator_impl.cc:80] Allocation of 3126329344 exceeds 10% of free system memory.\n"
     ]
    }
   ],
   "source": [
    "logits = module(images)[0]  # Logits with shape [batch_size, 21843].\n",
    "probabilities = tf.nn.sigmoid(logits)"
   ]
  },
  {
   "cell_type": "code",
   "execution_count": 31,
   "id": "6acf74c6",
   "metadata": {
    "ExecuteTime": {
     "end_time": "2021-08-06T07:58:15.064528Z",
     "start_time": "2021-08-06T07:58:15.040169Z"
    }
   },
   "outputs": [],
   "source": [
    "labels_mapped = np.column_stack([labels_imagenet21k, probabilities[0]])"
   ]
  },
  {
   "cell_type": "code",
   "execution_count": 37,
   "id": "76629345",
   "metadata": {
    "ExecuteTime": {
     "end_time": "2021-08-06T08:09:48.141475Z",
     "start_time": "2021-08-06T08:09:48.138005Z"
    }
   },
   "outputs": [
    {
     "data": {
      "text/plain": [
       "array([['organism, being', '5.4328957e-06'],\n",
       "       ['benthos', '2.6375134e-05'],\n",
       "       ['heterotroph', '1.1313429e-06'],\n",
       "       ...,\n",
       "       ['planking', '1.4390592e-06'],\n",
       "       ['chipboard, hardboard', '2.8833907e-05'],\n",
       "       ['knothole', '0.00017687678']], dtype='<U175')"
      ]
     },
     "execution_count": 37,
     "metadata": {},
     "output_type": "execute_result"
    }
   ],
   "source": [
    "labels_mapped"
   ]
  },
  {
   "cell_type": "code",
   "execution_count": 42,
   "id": "9209500d",
   "metadata": {
    "ExecuteTime": {
     "end_time": "2021-08-06T08:11:03.037432Z",
     "start_time": "2021-08-06T08:11:03.033592Z"
    }
   },
   "outputs": [
    {
     "data": {
      "text/plain": [
       "array(['5.4328957e-06', '2.6375134e-05', '1.1313429e-06', ...,\n",
       "       '1.4390592e-06', '2.8833907e-05', '0.00017687678'], dtype='<U175')"
      ]
     },
     "execution_count": 42,
     "metadata": {},
     "output_type": "execute_result"
    }
   ],
   "source": [
    "labels_mapped[:,1]"
   ]
  },
  {
   "cell_type": "code",
   "execution_count": 44,
   "id": "11ae6cac",
   "metadata": {
    "ExecuteTime": {
     "end_time": "2021-08-06T08:11:58.503016Z",
     "start_time": "2021-08-06T08:11:58.498170Z"
    }
   },
   "outputs": [
    {
     "data": {
      "text/plain": [
       "10135"
      ]
     },
     "execution_count": 44,
     "metadata": {},
     "output_type": "execute_result"
    }
   ],
   "source": [
    "probabilities_no_batch = probabilities[0]\n",
    "np.argmax(probabilities_no_batch)"
   ]
  },
  {
   "cell_type": "code",
   "execution_count": 46,
   "id": "f9af1c49",
   "metadata": {
    "ExecuteTime": {
     "end_time": "2021-08-06T08:12:21.430415Z",
     "start_time": "2021-08-06T08:12:21.426901Z"
    }
   },
   "outputs": [
    {
     "data": {
      "text/plain": [
       "array(['scrub_brush, scrubbing_brush, scrubber', '0.0065092146'],\n",
       "      dtype='<U175')"
      ]
     },
     "execution_count": 46,
     "metadata": {},
     "output_type": "execute_result"
    }
   ],
   "source": [
    "labels_mapped[10135]"
   ]
  },
  {
   "cell_type": "code",
   "execution_count": 49,
   "id": "45cb1f4c",
   "metadata": {
    "ExecuteTime": {
     "end_time": "2021-08-06T08:32:31.665173Z",
     "start_time": "2021-08-06T08:32:31.654598Z"
    }
   },
   "outputs": [
    {
     "ename": "ValueError",
     "evalue": "`decode_predictions` expects a batch of predictions (i.e. a 2D array of shape (samples, 1000)). Found array with shape: (1, 21843)",
     "output_type": "error",
     "traceback": [
      "\u001b[0;31m---------------------------------------------------------------------------\u001b[0m",
      "\u001b[0;31mValueError\u001b[0m                                Traceback (most recent call last)",
      "\u001b[0;32m/tmp/ipykernel_1247346/3973656427.py\u001b[0m in \u001b[0;36m<module>\u001b[0;34m\u001b[0m\n\u001b[1;32m      1\u001b[0m \u001b[0;32mfrom\u001b[0m \u001b[0mkeras\u001b[0m\u001b[0;34m.\u001b[0m\u001b[0mapplications\u001b[0m \u001b[0;32mimport\u001b[0m \u001b[0mimagenet_utils\u001b[0m\u001b[0;34m\u001b[0m\u001b[0;34m\u001b[0m\u001b[0m\n\u001b[0;32m----> 2\u001b[0;31m \u001b[0mP\u001b[0m \u001b[0;34m=\u001b[0m \u001b[0mimagenet_utils\u001b[0m\u001b[0;34m.\u001b[0m\u001b[0mdecode_predictions\u001b[0m\u001b[0;34m(\u001b[0m\u001b[0mprobabilities\u001b[0m\u001b[0;34m)\u001b[0m\u001b[0;34m\u001b[0m\u001b[0;34m\u001b[0m\u001b[0m\n\u001b[0m",
      "\u001b[0;32m~/miniconda3/envs/fastml/lib/python3.8/site-packages/keras/applications/imagenet_utils.py\u001b[0m in \u001b[0;36mdecode_predictions\u001b[0;34m(preds, top)\u001b[0m\n\u001b[1;32m    143\u001b[0m \u001b[0;34m\u001b[0m\u001b[0m\n\u001b[1;32m    144\u001b[0m   \u001b[0;32mif\u001b[0m \u001b[0mlen\u001b[0m\u001b[0;34m(\u001b[0m\u001b[0mpreds\u001b[0m\u001b[0;34m.\u001b[0m\u001b[0mshape\u001b[0m\u001b[0;34m)\u001b[0m \u001b[0;34m!=\u001b[0m \u001b[0;36m2\u001b[0m \u001b[0;32mor\u001b[0m \u001b[0mpreds\u001b[0m\u001b[0;34m.\u001b[0m\u001b[0mshape\u001b[0m\u001b[0;34m[\u001b[0m\u001b[0;36m1\u001b[0m\u001b[0;34m]\u001b[0m \u001b[0;34m!=\u001b[0m \u001b[0;36m1000\u001b[0m\u001b[0;34m:\u001b[0m\u001b[0;34m\u001b[0m\u001b[0;34m\u001b[0m\u001b[0m\n\u001b[0;32m--> 145\u001b[0;31m     raise ValueError('`decode_predictions` expects '\n\u001b[0m\u001b[1;32m    146\u001b[0m                      \u001b[0;34m'a batch of predictions '\u001b[0m\u001b[0;34m\u001b[0m\u001b[0;34m\u001b[0m\u001b[0m\n\u001b[1;32m    147\u001b[0m                      \u001b[0;34m'(i.e. a 2D array of shape (samples, 1000)). '\u001b[0m\u001b[0;34m\u001b[0m\u001b[0;34m\u001b[0m\u001b[0m\n",
      "\u001b[0;31mValueError\u001b[0m: `decode_predictions` expects a batch of predictions (i.e. a 2D array of shape (samples, 1000)). Found array with shape: (1, 21843)"
     ]
    }
   ],
   "source": [
    "from keras.applications import imagenet_utils\n",
    "P = imagenet_utils.decode_predictions(probabilities)"
   ]
  },
  {
   "cell_type": "code",
   "execution_count": null,
   "id": "e76c258b",
   "metadata": {},
   "outputs": [],
   "source": []
  }
 ],
 "metadata": {
  "kernelspec": {
   "display_name": "Python 3 (ipykernel)",
   "language": "python",
   "name": "python3"
  },
  "language_info": {
   "codemirror_mode": {
    "name": "ipython",
    "version": 3
   },
   "file_extension": ".py",
   "mimetype": "text/x-python",
   "name": "python",
   "nbconvert_exporter": "python",
   "pygments_lexer": "ipython3",
   "version": "3.8.11"
  },
  "toc": {
   "base_numbering": 1,
   "nav_menu": {},
   "number_sections": true,
   "sideBar": true,
   "skip_h1_title": false,
   "title_cell": "Table of Contents",
   "title_sidebar": "Contents",
   "toc_cell": false,
   "toc_position": {},
   "toc_section_display": true,
   "toc_window_display": false
  }
 },
 "nbformat": 4,
 "nbformat_minor": 5
}
