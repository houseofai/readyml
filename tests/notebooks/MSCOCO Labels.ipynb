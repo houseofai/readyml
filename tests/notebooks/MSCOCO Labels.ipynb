{
 "cells": [
  {
   "cell_type": "code",
   "execution_count": 4,
   "id": "dd91cc3a",
   "metadata": {
    "ExecuteTime": {
     "end_time": "2021-08-07T13:13:00.827020Z",
     "start_time": "2021-08-07T13:13:00.816322Z"
    }
   },
   "outputs": [],
   "source": [
    "PATH_TO_LABELS = '../../../models/research/object_detection/data/mscoco_label_map.pbtxt'\n",
    "category_index = label_map_util.create_category_index_from_labelmap(PATH_TO_LABELS, use_display_name=True)"
   ]
  },
  {
   "cell_type": "code",
   "execution_count": 7,
   "id": "23c930ef",
   "metadata": {
    "ExecuteTime": {
     "end_time": "2021-08-07T13:19:19.050220Z",
     "start_time": "2021-08-07T13:19:19.040349Z"
    }
   },
   "outputs": [
    {
     "data": {
      "text/plain": [
       "{1: {'id': 1, 'name': 'person'},\n",
       " 2: {'id': 2, 'name': 'bicycle'},\n",
       " 3: {'id': 3, 'name': 'car'},\n",
       " 4: {'id': 4, 'name': 'motorcycle'},\n",
       " 5: {'id': 5, 'name': 'airplane'},\n",
       " 6: {'id': 6, 'name': 'bus'},\n",
       " 7: {'id': 7, 'name': 'train'},\n",
       " 8: {'id': 8, 'name': 'truck'},\n",
       " 9: {'id': 9, 'name': 'boat'},\n",
       " 10: {'id': 10, 'name': 'traffic light'},\n",
       " 11: {'id': 11, 'name': 'fire hydrant'},\n",
       " 13: {'id': 13, 'name': 'stop sign'},\n",
       " 14: {'id': 14, 'name': 'parking meter'},\n",
       " 15: {'id': 15, 'name': 'bench'},\n",
       " 16: {'id': 16, 'name': 'bird'},\n",
       " 17: {'id': 17, 'name': 'cat'},\n",
       " 18: {'id': 18, 'name': 'dog'},\n",
       " 19: {'id': 19, 'name': 'horse'},\n",
       " 20: {'id': 20, 'name': 'sheep'},\n",
       " 21: {'id': 21, 'name': 'cow'},\n",
       " 22: {'id': 22, 'name': 'elephant'},\n",
       " 23: {'id': 23, 'name': 'bear'},\n",
       " 24: {'id': 24, 'name': 'zebra'},\n",
       " 25: {'id': 25, 'name': 'giraffe'},\n",
       " 27: {'id': 27, 'name': 'backpack'},\n",
       " 28: {'id': 28, 'name': 'umbrella'},\n",
       " 31: {'id': 31, 'name': 'handbag'},\n",
       " 32: {'id': 32, 'name': 'tie'},\n",
       " 33: {'id': 33, 'name': 'suitcase'},\n",
       " 34: {'id': 34, 'name': 'frisbee'},\n",
       " 35: {'id': 35, 'name': 'skis'},\n",
       " 36: {'id': 36, 'name': 'snowboard'},\n",
       " 37: {'id': 37, 'name': 'sports ball'},\n",
       " 38: {'id': 38, 'name': 'kite'},\n",
       " 39: {'id': 39, 'name': 'baseball bat'},\n",
       " 40: {'id': 40, 'name': 'baseball glove'},\n",
       " 41: {'id': 41, 'name': 'skateboard'},\n",
       " 42: {'id': 42, 'name': 'surfboard'},\n",
       " 43: {'id': 43, 'name': 'tennis racket'},\n",
       " 44: {'id': 44, 'name': 'bottle'},\n",
       " 46: {'id': 46, 'name': 'wine glass'},\n",
       " 47: {'id': 47, 'name': 'cup'},\n",
       " 48: {'id': 48, 'name': 'fork'},\n",
       " 49: {'id': 49, 'name': 'knife'},\n",
       " 50: {'id': 50, 'name': 'spoon'},\n",
       " 51: {'id': 51, 'name': 'bowl'},\n",
       " 52: {'id': 52, 'name': 'banana'},\n",
       " 53: {'id': 53, 'name': 'apple'},\n",
       " 54: {'id': 54, 'name': 'sandwich'},\n",
       " 55: {'id': 55, 'name': 'orange'},\n",
       " 56: {'id': 56, 'name': 'broccoli'},\n",
       " 57: {'id': 57, 'name': 'carrot'},\n",
       " 58: {'id': 58, 'name': 'hot dog'},\n",
       " 59: {'id': 59, 'name': 'pizza'},\n",
       " 60: {'id': 60, 'name': 'donut'},\n",
       " 61: {'id': 61, 'name': 'cake'},\n",
       " 62: {'id': 62, 'name': 'chair'},\n",
       " 63: {'id': 63, 'name': 'couch'},\n",
       " 64: {'id': 64, 'name': 'potted plant'},\n",
       " 65: {'id': 65, 'name': 'bed'},\n",
       " 67: {'id': 67, 'name': 'dining table'},\n",
       " 70: {'id': 70, 'name': 'toilet'},\n",
       " 72: {'id': 72, 'name': 'tv'},\n",
       " 73: {'id': 73, 'name': 'laptop'},\n",
       " 74: {'id': 74, 'name': 'mouse'},\n",
       " 75: {'id': 75, 'name': 'remote'},\n",
       " 76: {'id': 76, 'name': 'keyboard'},\n",
       " 77: {'id': 77, 'name': 'cell phone'},\n",
       " 78: {'id': 78, 'name': 'microwave'},\n",
       " 79: {'id': 79, 'name': 'oven'},\n",
       " 80: {'id': 80, 'name': 'toaster'},\n",
       " 81: {'id': 81, 'name': 'sink'},\n",
       " 82: {'id': 82, 'name': 'refrigerator'},\n",
       " 84: {'id': 84, 'name': 'book'},\n",
       " 85: {'id': 85, 'name': 'clock'},\n",
       " 86: {'id': 86, 'name': 'vase'},\n",
       " 87: {'id': 87, 'name': 'scissors'},\n",
       " 88: {'id': 88, 'name': 'teddy bear'},\n",
       " 89: {'id': 89, 'name': 'hair drier'},\n",
       " 90: {'id': 90, 'name': 'toothbrush'}}"
      ]
     },
     "execution_count": 7,
     "metadata": {},
     "output_type": "execute_result"
    }
   ],
   "source": [
    "category_index"
   ]
  },
  {
   "cell_type": "code",
   "execution_count": 8,
   "id": "294a703e",
   "metadata": {
    "ExecuteTime": {
     "end_time": "2021-08-07T13:20:19.974422Z",
     "start_time": "2021-08-07T13:20:19.971088Z"
    }
   },
   "outputs": [],
   "source": [
    "a_file = open(\"mscoco_labels.json\", \"w\")\n",
    "\n",
    "json.dump(category_index, a_file)\n",
    "\n",
    "a_file.close()"
   ]
  },
  {
   "cell_type": "code",
   "execution_count": 10,
   "id": "dc84253c",
   "metadata": {
    "ExecuteTime": {
     "end_time": "2021-08-07T13:30:55.899161Z",
     "start_time": "2021-08-07T13:30:55.887484Z"
    }
   },
   "outputs": [
    {
     "ename": "KeyError",
     "evalue": "0",
     "output_type": "error",
     "traceback": [
      "\u001b[0;31m---------------------------------------------------------------------------\u001b[0m",
      "\u001b[0;31mKeyError\u001b[0m                                  Traceback (most recent call last)",
      "\u001b[0;32m/tmp/ipykernel_6635/1060857028.py\u001b[0m in \u001b[0;36m<module>\u001b[0;34m\u001b[0m\n\u001b[0;32m----> 1\u001b[0;31m \u001b[0mcategory_index\u001b[0m\u001b[0;34m[\u001b[0m\u001b[0;36m0\u001b[0m\u001b[0;34m]\u001b[0m\u001b[0;34m\u001b[0m\u001b[0;34m\u001b[0m\u001b[0m\n\u001b[0m",
      "\u001b[0;31mKeyError\u001b[0m: 0"
     ]
    }
   ],
   "source": [
    "category_index[0]"
   ]
  },
  {
   "cell_type": "code",
   "execution_count": 34,
   "id": "8d8c51ab",
   "metadata": {
    "ExecuteTime": {
     "end_time": "2021-08-07T13:45:15.051664Z",
     "start_time": "2021-08-07T13:45:15.042222Z"
    }
   },
   "outputs": [
    {
     "name": "stdout",
     "output_type": "stream",
     "text": [
      "ID: 1 - Label: person\n",
      "ID: 2 - Label: bicycle\n",
      "ID: 3 - Label: car\n",
      "ID: 4 - Label: motorcycle\n",
      "ID: 5 - Label: airplane\n",
      "ID: 6 - Label: bus\n",
      "ID: 7 - Label: train\n",
      "ID: 8 - Label: truck\n",
      "ID: 9 - Label: boat\n",
      "ID: 10 - Label: traffic light\n",
      "ID: 11 - Label: fire hydrant\n",
      "ID: 13 - Label: stop sign\n",
      "ID: 14 - Label: parking meter\n",
      "ID: 15 - Label: bench\n",
      "ID: 16 - Label: bird\n",
      "ID: 17 - Label: cat\n",
      "ID: 18 - Label: dog\n",
      "ID: 19 - Label: horse\n",
      "ID: 20 - Label: sheep\n",
      "ID: 21 - Label: cow\n",
      "ID: 22 - Label: elephant\n",
      "ID: 23 - Label: bear\n",
      "ID: 24 - Label: zebra\n",
      "ID: 25 - Label: giraffe\n",
      "ID: 27 - Label: backpack\n",
      "ID: 28 - Label: umbrella\n",
      "ID: 31 - Label: handbag\n",
      "ID: 32 - Label: tie\n",
      "ID: 33 - Label: suitcase\n",
      "ID: 34 - Label: frisbee\n",
      "ID: 35 - Label: skis\n",
      "ID: 36 - Label: snowboard\n",
      "ID: 37 - Label: sports ball\n",
      "ID: 38 - Label: kite\n",
      "ID: 39 - Label: baseball bat\n",
      "ID: 40 - Label: baseball glove\n",
      "ID: 41 - Label: skateboard\n",
      "ID: 42 - Label: surfboard\n",
      "ID: 43 - Label: tennis racket\n",
      "ID: 44 - Label: bottle\n",
      "ID: 46 - Label: wine glass\n",
      "ID: 47 - Label: cup\n",
      "ID: 48 - Label: fork\n",
      "ID: 49 - Label: knife\n",
      "ID: 50 - Label: spoon\n",
      "ID: 51 - Label: bowl\n",
      "ID: 52 - Label: banana\n",
      "ID: 53 - Label: apple\n",
      "ID: 54 - Label: sandwich\n",
      "ID: 55 - Label: orange\n",
      "ID: 56 - Label: broccoli\n",
      "ID: 57 - Label: carrot\n",
      "ID: 58 - Label: hot dog\n",
      "ID: 59 - Label: pizza\n",
      "ID: 60 - Label: donut\n",
      "ID: 61 - Label: cake\n",
      "ID: 62 - Label: chair\n",
      "ID: 63 - Label: couch\n",
      "ID: 64 - Label: potted plant\n",
      "ID: 65 - Label: bed\n",
      "ID: 67 - Label: dining table\n",
      "ID: 70 - Label: toilet\n",
      "ID: 72 - Label: tv\n",
      "ID: 73 - Label: laptop\n",
      "ID: 74 - Label: mouse\n",
      "ID: 75 - Label: remote\n",
      "ID: 76 - Label: keyboard\n",
      "ID: 77 - Label: cell phone\n",
      "ID: 78 - Label: microwave\n",
      "ID: 79 - Label: oven\n",
      "ID: 80 - Label: toaster\n",
      "ID: 81 - Label: sink\n",
      "ID: 82 - Label: refrigerator\n",
      "ID: 84 - Label: book\n",
      "ID: 85 - Label: clock\n",
      "ID: 86 - Label: vase\n",
      "ID: 87 - Label: scissors\n",
      "ID: 88 - Label: teddy bear\n",
      "ID: 89 - Label: hair drier\n",
      "ID: 90 - Label: toothbrush\n"
     ]
    }
   ],
   "source": [
    "import json \n",
    "\n",
    "labels_file = open(\"/home/begood/git/mscoco-labels/mscoco_labels.json\")\n",
    "ids_labels = json.load(labels_file)\n",
    "\n",
    "for v in ids_labels.values():\n",
    "    print(f\"ID: {v.get('id')} - Label: {v.get('name')}\")"
   ]
  },
  {
   "cell_type": "code",
   "execution_count": 28,
   "id": "8bd5f80a",
   "metadata": {
    "ExecuteTime": {
     "end_time": "2021-08-07T13:40:32.230265Z",
     "start_time": "2021-08-07T13:40:32.227014Z"
    }
   },
   "outputs": [
    {
     "data": {
      "text/plain": [
       "'{\"1\": {\"id\": 1, \"name\": \"person\"}, \"2\": {\"id\": 2, \"name\": \"bicycle\"}, \"3\": {\"id\": 3, \"name\": \"car\"}, \"4\": {\"id\": 4, \"name\": \"motorcycle\"}, \"5\": {\"id\": 5, \"name\": \"airplane\"}, \"6\": {\"id\": 6, \"name\": \"bus\"}, \"7\": {\"id\": 7, \"name\": \"train\"}, \"8\": {\"id\": 8, \"name\": \"truck\"}, \"9\": {\"id\": 9, \"name\": \"boat\"}, \"10\": {\"id\": 10, \"name\": \"traffic light\"}, \"11\": {\"id\": 11, \"name\": \"fire hydrant\"}, \"13\": {\"id\": 13, \"name\": \"stop sign\"}, \"14\": {\"id\": 14, \"name\": \"parking meter\"}, \"15\": {\"id\": 15, \"name\": \"bench\"}, \"16\": {\"id\": 16, \"name\": \"bird\"}, \"17\": {\"id\": 17, \"name\": \"cat\"}, \"18\": {\"id\": 18, \"name\": \"dog\"}, \"19\": {\"id\": 19, \"name\": \"horse\"}, \"20\": {\"id\": 20, \"name\": \"sheep\"}, \"21\": {\"id\": 21, \"name\": \"cow\"}, \"22\": {\"id\": 22, \"name\": \"elephant\"}, \"23\": {\"id\": 23, \"name\": \"bear\"}, \"24\": {\"id\": 24, \"name\": \"zebra\"}, \"25\": {\"id\": 25, \"name\": \"giraffe\"}, \"27\": {\"id\": 27, \"name\": \"backpack\"}, \"28\": {\"id\": 28, \"name\": \"umbrella\"}, \"31\": {\"id\": 31, \"name\": \"handbag\"}, \"32\": {\"id\": 32, \"name\": \"tie\"}, \"33\": {\"id\": 33, \"name\": \"suitcase\"}, \"34\": {\"id\": 34, \"name\": \"frisbee\"}, \"35\": {\"id\": 35, \"name\": \"skis\"}, \"36\": {\"id\": 36, \"name\": \"snowboard\"}, \"37\": {\"id\": 37, \"name\": \"sports ball\"}, \"38\": {\"id\": 38, \"name\": \"kite\"}, \"39\": {\"id\": 39, \"name\": \"baseball bat\"}, \"40\": {\"id\": 40, \"name\": \"baseball glove\"}, \"41\": {\"id\": 41, \"name\": \"skateboard\"}, \"42\": {\"id\": 42, \"name\": \"surfboard\"}, \"43\": {\"id\": 43, \"name\": \"tennis racket\"}, \"44\": {\"id\": 44, \"name\": \"bottle\"}, \"46\": {\"id\": 46, \"name\": \"wine glass\"}, \"47\": {\"id\": 47, \"name\": \"cup\"}, \"48\": {\"id\": 48, \"name\": \"fork\"}, \"49\": {\"id\": 49, \"name\": \"knife\"}, \"50\": {\"id\": 50, \"name\": \"spoon\"}, \"51\": {\"id\": 51, \"name\": \"bowl\"}, \"52\": {\"id\": 52, \"name\": \"banana\"}, \"53\": {\"id\": 53, \"name\": \"apple\"}, \"54\": {\"id\": 54, \"name\": \"sandwich\"}, \"55\": {\"id\": 55, \"name\": \"orange\"}, \"56\": {\"id\": 56, \"name\": \"broccoli\"}, \"57\": {\"id\": 57, \"name\": \"carrot\"}, \"58\": {\"id\": 58, \"name\": \"hot dog\"}, \"59\": {\"id\": 59, \"name\": \"pizza\"}, \"60\": {\"id\": 60, \"name\": \"donut\"}, \"61\": {\"id\": 61, \"name\": \"cake\"}, \"62\": {\"id\": 62, \"name\": \"chair\"}, \"63\": {\"id\": 63, \"name\": \"couch\"}, \"64\": {\"id\": 64, \"name\": \"potted plant\"}, \"65\": {\"id\": 65, \"name\": \"bed\"}, \"67\": {\"id\": 67, \"name\": \"dining table\"}, \"70\": {\"id\": 70, \"name\": \"toilet\"}, \"72\": {\"id\": 72, \"name\": \"tv\"}, \"73\": {\"id\": 73, \"name\": \"laptop\"}, \"74\": {\"id\": 74, \"name\": \"mouse\"}, \"75\": {\"id\": 75, \"name\": \"remote\"}, \"76\": {\"id\": 76, \"name\": \"keyboard\"}, \"77\": {\"id\": 77, \"name\": \"cell phone\"}, \"78\": {\"id\": 78, \"name\": \"microwave\"}, \"79\": {\"id\": 79, \"name\": \"oven\"}, \"80\": {\"id\": 80, \"name\": \"toaster\"}, \"81\": {\"id\": 81, \"name\": \"sink\"}, \"82\": {\"id\": 82, \"name\": \"refrigerator\"}, \"84\": {\"id\": 84, \"name\": \"book\"}, \"85\": {\"id\": 85, \"name\": \"clock\"}, \"86\": {\"id\": 86, \"name\": \"vase\"}, \"87\": {\"id\": 87, \"name\": \"scissors\"}, \"88\": {\"id\": 88, \"name\": \"teddy bear\"}, \"89\": {\"id\": 89, \"name\": \"hair drier\"}, \"90\": {\"id\": 90, \"name\": \"toothbrush\"}}'"
      ]
     },
     "execution_count": 28,
     "metadata": {},
     "output_type": "execute_result"
    }
   ],
   "source": [
    "ids_labels"
   ]
  },
  {
   "cell_type": "code",
   "execution_count": 25,
   "id": "7dbf86b7",
   "metadata": {
    "ExecuteTime": {
     "end_time": "2021-08-07T13:36:57.526029Z",
     "start_time": "2021-08-07T13:36:57.517340Z"
    }
   },
   "outputs": [
    {
     "name": "stdout",
     "output_type": "stream",
     "text": [
      "| ID | Class              |\n",
      "|---|---|---|---|---|\n",
      "| 1 | person |\n",
      "| 2 | bicycle |\n",
      "| 3 | car |\n",
      "| 4 | motorcycle |\n",
      "| 5 | airplane |\n",
      "| 6 | bus |\n",
      "| 7 | train |\n",
      "| 8 | truck |\n",
      "| 9 | boat |\n",
      "| 10 | traffic light |\n",
      "| 11 | fire hydrant |\n",
      "| 13 | stop sign |\n",
      "| 14 | parking meter |\n",
      "| 15 | bench |\n",
      "| 16 | bird |\n",
      "| 17 | cat |\n",
      "| 18 | dog |\n",
      "| 19 | horse |\n",
      "| 20 | sheep |\n",
      "| 21 | cow |\n",
      "| 22 | elephant |\n",
      "| 23 | bear |\n",
      "| 24 | zebra |\n",
      "| 25 | giraffe |\n",
      "| 27 | backpack |\n",
      "| 28 | umbrella |\n",
      "| 31 | handbag |\n",
      "| 32 | tie |\n",
      "| 33 | suitcase |\n",
      "| 34 | frisbee |\n",
      "| 35 | skis |\n",
      "| 36 | snowboard |\n",
      "| 37 | sports ball |\n",
      "| 38 | kite |\n",
      "| 39 | baseball bat |\n",
      "| 40 | baseball glove |\n",
      "| 41 | skateboard |\n",
      "| 42 | surfboard |\n",
      "| 43 | tennis racket |\n",
      "| 44 | bottle |\n",
      "| 46 | wine glass |\n",
      "| 47 | cup |\n",
      "| 48 | fork |\n",
      "| 49 | knife |\n",
      "| 50 | spoon |\n",
      "| 51 | bowl |\n",
      "| 52 | banana |\n",
      "| 53 | apple |\n",
      "| 54 | sandwich |\n",
      "| 55 | orange |\n",
      "| 56 | broccoli |\n",
      "| 57 | carrot |\n",
      "| 58 | hot dog |\n",
      "| 59 | pizza |\n",
      "| 60 | donut |\n",
      "| 61 | cake |\n",
      "| 62 | chair |\n",
      "| 63 | couch |\n",
      "| 64 | potted plant |\n",
      "| 65 | bed |\n",
      "| 67 | dining table |\n",
      "| 70 | toilet |\n",
      "| 72 | tv |\n",
      "| 73 | laptop |\n",
      "| 74 | mouse |\n",
      "| 75 | remote |\n",
      "| 76 | keyboard |\n",
      "| 77 | cell phone |\n",
      "| 78 | microwave |\n",
      "| 79 | oven |\n",
      "| 80 | toaster |\n",
      "| 81 | sink |\n",
      "| 82 | refrigerator |\n",
      "| 84 | book |\n",
      "| 85 | clock |\n",
      "| 86 | vase |\n",
      "| 87 | scissors |\n",
      "| 88 | teddy bear |\n",
      "| 89 | hair drier |\n",
      "| 90 | toothbrush |\n"
     ]
    }
   ],
   "source": [
    "print(\"| ID | Class              |\")\n",
    "print(\"|---|---|---|---|---|\")\n",
    "\n",
    "for v in category_index.values():\n",
    "    print(f\"| {v.get('id')} | {v.get('name')} |\")"
   ]
  },
  {
   "cell_type": "code",
   "execution_count": null,
   "id": "aaa3174c",
   "metadata": {},
   "outputs": [],
   "source": []
  }
 ],
 "metadata": {
  "kernelspec": {
   "display_name": "Python 3 (ipykernel)",
   "language": "python",
   "name": "python3"
  },
  "language_info": {
   "codemirror_mode": {
    "name": "ipython",
    "version": 3
   },
   "file_extension": ".py",
   "mimetype": "text/x-python",
   "name": "python",
   "nbconvert_exporter": "python",
   "pygments_lexer": "ipython3",
   "version": "3.8.11"
  },
  "toc": {
   "base_numbering": 1,
   "nav_menu": {},
   "number_sections": true,
   "sideBar": true,
   "skip_h1_title": false,
   "title_cell": "Table of Contents",
   "title_sidebar": "Contents",
   "toc_cell": false,
   "toc_position": {},
   "toc_section_display": true,
   "toc_window_display": false
  }
 },
 "nbformat": 4,
 "nbformat_minor": 5
}
