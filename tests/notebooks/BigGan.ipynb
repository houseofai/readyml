{
 "cells": [
  {
   "cell_type": "code",
   "execution_count": 1,
   "id": "f08a4dcb",
   "metadata": {
    "ExecuteTime": {
     "end_time": "2021-08-10T15:37:16.804247Z",
     "start_time": "2021-08-10T15:37:15.670371Z"
    }
   },
   "outputs": [
    {
     "name": "stderr",
     "output_type": "stream",
     "text": [
      "2021-08-10 17:37:15.830489: I tensorflow/stream_executor/platform/default/dso_loader.cc:53] Successfully opened dynamic library libcudart.so.11.0\n"
     ]
    }
   ],
   "source": [
    "import PIL\n",
    "import PIL.Image as Image\n",
    "import numpy as np\n",
    "import tensorflow as tf\n",
    "import tensorflow_hub as hub\n",
    "import os"
   ]
  },
  {
   "cell_type": "code",
   "execution_count": 2,
   "id": "5143518b",
   "metadata": {
    "ExecuteTime": {
     "end_time": "2021-08-10T15:37:16.877723Z",
     "start_time": "2021-08-10T15:37:16.805296Z"
    }
   },
   "outputs": [
    {
     "name": "stderr",
     "output_type": "stream",
     "text": [
      "2021-08-10 17:37:16.806718: I tensorflow/stream_executor/platform/default/dso_loader.cc:53] Successfully opened dynamic library libcuda.so.1\n",
      "2021-08-10 17:37:16.867862: I tensorflow/stream_executor/cuda/cuda_gpu_executor.cc:937] successful NUMA node read from SysFS had negative value (-1), but there must be at least one NUMA node, so returning NUMA node zero\n",
      "2021-08-10 17:37:16.868953: I tensorflow/core/common_runtime/gpu/gpu_device.cc:1733] Found device 0 with properties: \n",
      "pciBusID: 0000:01:00.0 name: NVIDIA GeForce RTX 3090 computeCapability: 8.6\n",
      "coreClock: 1.695GHz coreCount: 82 deviceMemorySize: 23.69GiB deviceMemoryBandwidth: 871.81GiB/s\n",
      "2021-08-10 17:37:16.868970: I tensorflow/stream_executor/platform/default/dso_loader.cc:53] Successfully opened dynamic library libcudart.so.11.0\n",
      "2021-08-10 17:37:16.871593: I tensorflow/stream_executor/platform/default/dso_loader.cc:53] Successfully opened dynamic library libcublas.so.11\n",
      "2021-08-10 17:37:16.871619: I tensorflow/stream_executor/platform/default/dso_loader.cc:53] Successfully opened dynamic library libcublasLt.so.11\n",
      "2021-08-10 17:37:16.872924: I tensorflow/stream_executor/platform/default/dso_loader.cc:53] Successfully opened dynamic library libcufft.so.10\n",
      "2021-08-10 17:37:16.873079: I tensorflow/stream_executor/platform/default/dso_loader.cc:53] Successfully opened dynamic library libcurand.so.10\n",
      "2021-08-10 17:37:16.873404: I tensorflow/stream_executor/platform/default/dso_loader.cc:53] Successfully opened dynamic library libcusolver.so.11\n",
      "2021-08-10 17:37:16.873962: I tensorflow/stream_executor/platform/default/dso_loader.cc:53] Successfully opened dynamic library libcusparse.so.11\n",
      "2021-08-10 17:37:16.874046: I tensorflow/stream_executor/platform/default/dso_loader.cc:53] Successfully opened dynamic library libcudnn.so.8\n",
      "2021-08-10 17:37:16.874148: I tensorflow/stream_executor/cuda/cuda_gpu_executor.cc:937] successful NUMA node read from SysFS had negative value (-1), but there must be at least one NUMA node, so returning NUMA node zero\n",
      "2021-08-10 17:37:16.874858: I tensorflow/stream_executor/cuda/cuda_gpu_executor.cc:937] successful NUMA node read from SysFS had negative value (-1), but there must be at least one NUMA node, so returning NUMA node zero\n",
      "2021-08-10 17:37:16.875497: I tensorflow/core/common_runtime/gpu/gpu_device.cc:1871] Adding visible gpu devices: 0\n"
     ]
    }
   ],
   "source": [
    "physical_devices = tf.config.list_physical_devices('GPU')\n",
    "for device in physical_devices:\n",
    "    tf.config.experimental.set_memory_growth(device, True)\n",
    "\n",
    "os.environ['TFHUB_DOWNLOAD_PROGRESS'] = \"1\""
   ]
  },
  {
   "cell_type": "code",
   "execution_count": 3,
   "id": "33932497",
   "metadata": {
    "ExecuteTime": {
     "end_time": "2021-08-10T15:37:16.880369Z",
     "start_time": "2021-08-10T15:37:16.878607Z"
    }
   },
   "outputs": [],
   "source": [
    "tf.compat.v1.disable_eager_execution()"
   ]
  },
  {
   "cell_type": "code",
   "execution_count": 4,
   "id": "7162ec25",
   "metadata": {
    "ExecuteTime": {
     "end_time": "2021-08-10T15:37:40.176981Z",
     "start_time": "2021-08-10T15:37:16.880917Z"
    }
   },
   "outputs": [
    {
     "name": "stdout",
     "output_type": "stream",
     "text": [
      "INFO:tensorflow:Saver not created because there are no variables in the graph to restore\n"
     ]
    },
    {
     "name": "stderr",
     "output_type": "stream",
     "text": [
      "INFO:tensorflow:Saver not created because there are no variables in the graph to restore\n"
     ]
    }
   ],
   "source": [
    "# Load BigGAN-deep 256 module.\n",
    "module = hub.Module('https://tfhub.dev/deepmind/biggan-deep-256/1')\n",
    "\n",
    "# Sample random noise (z) and ImageNet label (y) inputs.\n",
    "batch_size = 8\n",
    "truncation = 0.5  # scalar truncation value in [0.0, 1.0]\n",
    "z = truncation * tf.random.truncated_normal([batch_size, 128])  # noise sample\n",
    "y_index = tf.random.uniform([batch_size], maxval=1000, dtype=tf.int32)\n",
    "y = tf.one_hot(y_index, 1000)  # one-hot ImageNet label\n",
    "\n",
    "# Call BigGAN on a dict of the inputs to generate a batch of images with shape\n",
    "# [8, 256, 256, 3] and range [-1, 1].\n",
    "samples = module(dict(y=y, z=z, truncation=truncation))\n"
   ]
  },
  {
   "cell_type": "code",
   "execution_count": 5,
   "id": "7e5be5e0",
   "metadata": {
    "ExecuteTime": {
     "end_time": "2021-08-10T15:40:28.459428Z",
     "start_time": "2021-08-10T15:40:28.450395Z"
    }
   },
   "outputs": [
    {
     "data": {
      "text/plain": [
       "<tf.Tensor 'module_apply_default/G_trunc_output:0' shape=(8, 256, 256, 3) dtype=float32>"
      ]
     },
     "execution_count": 5,
     "metadata": {},
     "output_type": "execute_result"
    }
   ],
   "source": [
    "samples"
   ]
  },
  {
   "cell_type": "code",
   "execution_count": null,
   "id": "4d79ccce",
   "metadata": {},
   "outputs": [],
   "source": []
  }
 ],
 "metadata": {
  "kernelspec": {
   "display_name": "Python 3 (ipykernel)",
   "language": "python",
   "name": "python3"
  },
  "language_info": {
   "codemirror_mode": {
    "name": "ipython",
    "version": 3
   },
   "file_extension": ".py",
   "mimetype": "text/x-python",
   "name": "python",
   "nbconvert_exporter": "python",
   "pygments_lexer": "ipython3",
   "version": "3.8.11"
  },
  "toc": {
   "base_numbering": 1,
   "nav_menu": {},
   "number_sections": true,
   "sideBar": true,
   "skip_h1_title": false,
   "title_cell": "Table of Contents",
   "title_sidebar": "Contents",
   "toc_cell": false,
   "toc_position": {},
   "toc_section_display": true,
   "toc_window_display": false
  }
 },
 "nbformat": 4,
 "nbformat_minor": 5
}
